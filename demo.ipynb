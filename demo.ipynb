{
 "cells": [
  {
   "cell_type": "code",
   "execution_count": null,
   "id": "33a12553",
   "metadata": {},
   "outputs": [],
   "source": [
    "# Clone the repository\n",
    "!git clone https://github.com/KatasonovEugene/asr.git"
   ]
  },
  {
   "cell_type": "code",
   "execution_count": null,
   "id": "44a04391",
   "metadata": {},
   "outputs": [],
   "source": [
    "# Install requirements\n",
    "%pip install -r asr/requirements.txt\n",
    "!python3 scripts/download_everything.py"
   ]
  },
  {
   "cell_type": "code",
   "execution_count": null,
   "id": "471e721c",
   "metadata": {},
   "outputs": [],
   "source": [
    "# If you want to train\n",
    "# !python3 train.py -cn=train_phase_1\n",
    "# !python3 train.py -cn=train_phase_2"
   ]
  },
  {
   "cell_type": "code",
   "execution_count": null,
   "id": "ea45de31",
   "metadata": {},
   "outputs": [],
   "source": [
    "# To reproduce original result\n",
    "!python3 inference.py -cn=inference_lm"
   ]
  },
  {
   "cell_type": "code",
   "execution_count": null,
   "id": "e548a5a2",
   "metadata": {},
   "outputs": [],
   "source": [
    "# To evaluate on custom dataset\n",
    "custom_dataset_dir = \"<YOUR_PATH>\"\n",
    "!python3 inference.py -cn=inference_custom datasets.test.0.audio_dir={custom_dataset_dir}"
   ]
  }
 ],
 "metadata": {
  "language_info": {
   "name": "python"
  }
 },
 "nbformat": 4,
 "nbformat_minor": 5
}
