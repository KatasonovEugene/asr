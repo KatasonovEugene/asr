{
 "cells": [
  {
   "cell_type": "code",
   "execution_count": null,
   "id": "33a12553",
   "metadata": {},
   "outputs": [],
   "source": [
    "# Clone the repository\n",
    "!git clone https://github.com/KatasonovEugene/asr.git"
   ]
  },
  {
   "cell_type": "code",
   "execution_count": null,
   "id": "44a04391",
   "metadata": {},
   "outputs": [],
   "source": [
    "# Install requirements\n",
    "%cd asr\n",
    "%pip install -r requirements.txt\n",
    "!python3 scripts/download_everything.py"
   ]
  },
  {
   "cell_type": "code",
   "execution_count": null,
   "id": "471e721c",
   "metadata": {},
   "outputs": [],
   "source": [
    "# If you want to train\n",
    "# !python3 train.py -cn=train_phase_1\n",
    "# !python3 train.py -cn=train_phase_2"
   ]
  },
  {
   "cell_type": "code",
   "execution_count": null,
   "id": "ea45de31",
   "metadata": {},
   "outputs": [],
   "source": [
    "# To reproduce original result\n",
    "!python3 inference.py -cn=inference_lm"
   ]
  },
  {
   "cell_type": "code",
   "execution_count": null,
   "id": "e548a5a2",
   "metadata": {},
   "outputs": [],
   "source": [
    "# To evaluate on custom dataset\n",
    "custom_dataset_dir = \"<YOUR_PATH>\"\n",
    "!python3 inference.py -cn=inference_custom datasets.test.0.directory={custom_dataset_dir}"
   ]
  }
 ],
 "metadata": {
  "kernelspec": {
   "display_name": "asr",
   "language": "python",
   "name": "python3"
  },
  "language_info": {
   "name": "python",
   "version": "3.11.14"
  }
 },
 "nbformat": 4,
 "nbformat_minor": 5
}
