{
 "cells": [
  {
   "cell_type": "code",
   "execution_count": null,
   "id": "33a12553",
   "metadata": {},
   "outputs": [],
   "source": [
    "# Clone the repository\n",
    "!git clone https://github.com/KatasonovEugene/asr.git"
   ]
  },
  {
   "cell_type": "code",
   "execution_count": null,
   "id": "44a04391",
   "metadata": {},
   "outputs": [],
   "source": [
    "# Install requirements\n",
    "%pip install -r asr/requirements.txt"
   ]
  },
  {
   "cell_type": "code",
   "execution_count": null,
   "id": "471e721c",
   "metadata": {},
   "outputs": [],
   "source": []
  }
 ],
 "metadata": {
  "language_info": {
   "name": "python"
  }
 },
 "nbformat": 4,
 "nbformat_minor": 5
}
